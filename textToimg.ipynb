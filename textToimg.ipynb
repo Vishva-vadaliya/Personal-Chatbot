{
 "cells": [
  {
   "cell_type": "code",
   "execution_count": 4,
   "id": "e771c1c7-0821-4a2f-a785-73b9cdc95925",
   "metadata": {},
   "outputs": [
    {
     "name": "stdout",
     "output_type": "stream",
     "text": [
      "Hello! I'm your personal chatbot. How can I assist you today?\n"
     ]
    },
    {
     "name": "stdin",
     "output_type": "stream",
     "text": [
      "\n",
      "You:  give me some tips to study nicely\n"
     ]
    },
    {
     "name": "stdout",
     "output_type": "stream",
     "text": [
      "Chatbot: Sorry, I don't understand that. Can you ask something else?\n"
     ]
    },
    {
     "name": "stdin",
     "output_type": "stream",
     "text": [
      "\n",
      "You:  my name is vishva\n"
     ]
    },
    {
     "name": "stdout",
     "output_type": "stream",
     "text": [
      "Chatbot: My name is Chatbot. What's your name?\n"
     ]
    },
    {
     "name": "stdin",
     "output_type": "stream",
     "text": [
      "\n",
      "You:  i am Vishva\n"
     ]
    },
    {
     "name": "stdout",
     "output_type": "stream",
     "text": [
      "Chatbot: Sorry, I don't understand that. Can you ask something else?\n"
     ]
    },
    {
     "name": "stdin",
     "output_type": "stream",
     "text": [
      "\n",
      "You:  vishva\n"
     ]
    },
    {
     "name": "stdout",
     "output_type": "stream",
     "text": [
      "Chatbot: Sorry, I don't understand that. Can you ask something else?\n"
     ]
    },
    {
     "name": "stdin",
     "output_type": "stream",
     "text": [
      "\n",
      "You:  how are you?\n"
     ]
    },
    {
     "name": "stdout",
     "output_type": "stream",
     "text": [
      "Chatbot: Sorry, I don't understand that. Can you ask something else?\n"
     ]
    },
    {
     "name": "stdin",
     "output_type": "stream",
     "text": [
      "\n",
      "You:  hi\n"
     ]
    },
    {
     "name": "stdout",
     "output_type": "stream",
     "text": [
      "Chatbot: Hi there! How can I help you?\n"
     ]
    },
    {
     "name": "stdin",
     "output_type": "stream",
     "text": [
      "\n",
      "You:  remind me to call mom\n"
     ]
    },
    {
     "name": "stdout",
     "output_type": "stream",
     "text": [
      "Chatbot: Sure! I'll remind you to to call mom.\n"
     ]
    },
    {
     "name": "stdin",
     "output_type": "stream",
     "text": [
      "\n",
      "You:  bye\n"
     ]
    },
    {
     "name": "stdout",
     "output_type": "stream",
     "text": [
      "Chatbot: Goodbye! Have a great day!\n"
     ]
    }
   ],
   "source": [
    "import time\n",
    "\n",
    "def chatbot():\n",
    "    print(\"Hello! I'm your personal chatbot. How can I assist you today?\")\n",
    "    \n",
    "    while True:\n",
    "        # Get user input\n",
    "        user_input = input(\"\\nYou: \").strip().lower()\n",
    "\n",
    "        # Exit condition\n",
    "        if \"bye\" in user_input or \"exit\" in user_input:\n",
    "            print(\"Chatbot: Goodbye! Have a great day!\")\n",
    "            break\n",
    "\n",
    "        # Simple greetings\n",
    "        elif \"hello\" in user_input or \"hi\" in user_input:\n",
    "            print(\"Chatbot: Hi there! How can I help you?\")\n",
    "        \n",
    "        # Asking for chatbot's name\n",
    "        elif \"name\" in user_input:\n",
    "            print(\"Chatbot: My name is Chatbot. What's your name?\")\n",
    "        \n",
    "        # Responding to user's name\n",
    "        elif \"my name is\" in user_input:\n",
    "            name = user_input.split(\"my name is \")[-1]\n",
    "            print(f\"Chatbot: Nice to meet you, {name.capitalize()}!\")\n",
    "        \n",
    "        # Time-based tasks: checking the current time\n",
    "        elif \"time\" in user_input:\n",
    "            current_time = time.strftime(\"%H:%M:%S\")\n",
    "            print(f\"Chatbot: The current time is {current_time}.\")\n",
    "        \n",
    "        # Simple weather inquiry (mock response)\n",
    "        elif \"weather\" in user_input:\n",
    "            print(\"Chatbot: I'm not connected to the internet, but it looks sunny here!\")\n",
    "        \n",
    "        # Task setting: setting reminders\n",
    "        elif \"remind me\" in user_input:\n",
    "            reminder = user_input.split(\"remind me\")[1].strip()\n",
    "            print(f\"Chatbot: Sure! I'll remind you to {reminder}.\")\n",
    "        \n",
    "        # Fallback for unrecognized input\n",
    "        else:\n",
    "            print(\"Chatbot: Sorry, I don't understand that. Can you ask something else?\")\n",
    "\n",
    "if __name__ == \"__main__\":\n",
    "    chatbot()\n",
    "\n"
   ]
  },
  {
   "cell_type": "code",
   "execution_count": null,
   "id": "b63ffc64-16da-4d07-a3e7-49330e7477cf",
   "metadata": {},
   "outputs": [],
   "source": []
  }
 ],
 "metadata": {
  "kernelspec": {
   "display_name": "Python 3 (ipykernel)",
   "language": "python",
   "name": "python3"
  },
  "language_info": {
   "codemirror_mode": {
    "name": "ipython",
    "version": 3
   },
   "file_extension": ".py",
   "mimetype": "text/x-python",
   "name": "python",
   "nbconvert_exporter": "python",
   "pygments_lexer": "ipython3",
   "version": "3.12.5"
  }
 },
 "nbformat": 4,
 "nbformat_minor": 5
}
